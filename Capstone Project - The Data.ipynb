{
    "nbformat_minor": 1, 
    "cells": [
        {
            "source": "# Conserving Lifestyle as an Expat on Other Continent", 
            "cell_type": "markdown", 
            "metadata": {
                "collapsed": true
            }
        }, 
        {
            "source": "### - Moving from Toronto, Canada to Bucharest, Romania - ", 
            "cell_type": "markdown", 
            "metadata": {}
        }, 
        {
            "source": "## 1. Introduction", 
            "cell_type": "markdown", 
            "metadata": {}
        }, 
        {
            "source": "### 1.1. The Background", 
            "cell_type": "markdown", 
            "metadata": {}
        }, 
        {
            "source": "According to the Romanian Ministry of Foreign Affairs (http://www.mae.ro/node/2089), the statistics available for the year 2018 shows that for the first two months the total value of the bilateral trade between Canada and Romania was USD 26.65 million. The value of the Romanian exports to Canada amounts to USD 17.55 million, and the value of imports of USD 9.10 million. At the level of the whole year 2017, according to the Romanian statistics, the total trade was 341.8. USD million, of which USD 213.5 million represented Romanian exports (an increase of 82% compared to 2016) and USD 128.3 million represented imports (an increase of 58.2% compared to 2016).\n\nCanada ranks 29th among the top foreign investors in Romania in terms of subscribed share capital.\n\nRegarding the structure and territorial orientation of Canadian investments in Romania, most of the joint ventures are active in the electronic industry, the light industry, auto constructions and spare parts, the agri-food sector, transport, construction, metal manufacturing, tourism, being mainly located in Bucharest, Bihor, Dolj, Bistrita Nasaud, Brasov, Arad, Harghita, Alba, Cluj, Prahova, Salaj, Iasi counties.\n\nAccording to the Romanian National Statistic Institute, the real estate market is also growing in Bucharest - http://www.bucuresti.insse.ro/wp-content/uploads/2019/07/Locuin\u0163e-terminate-\u00een-Municipiul-Bucure\u015fti-\u00een-anul-2018.pdf\n\n\nAccording to the last media data, the demand for renting by expats raised in 2018 with 30% to 40% - http://www.bucuresti.insse.ro/wp-content/uploads/2019/07/Locuin\u0163e-terminate-\u00een-Municipiul-Bucure\u015fti-\u00een-anul-2018.pdf\n\nMany of this demand are in the north part of Bucharest and the prices per month vary between 700 and 1000 EUR/Month; a modest amount compared with Western Europe average real estate prices; according to this statistic references - https://www.statista.com/statistics/503274/average-rental-cost-apartment-europe/\n\nSo renting an apartment in Bucharest is much cheaper (up to 50%) compare to top EU cities but 30 to 40% of the demand goes to the northern part of Bucharest, which is well known for its infrastructure problems like - lack of sewerage, secondary access roads, bad public transport, crowded traffic, etc (for more info please read this article - https://www.wall-street.ro/articol/Real-Estate/238183/dan-cristian-popescu-suntem-mult-in-urma-cu-infrastructura-in-dimitrie-pompeiu.html#gref).\n", 
            "cell_type": "markdown", 
            "metadata": {}
        }, 
        {
            "source": "### 1.2. The Problem", 
            "cell_type": "markdown", 
            "metadata": {}
        }, 
        {
            "source": "Therefore, the problem is that an expat can afford to rent any apartment he/she wants compared with other western cities but many have no access to Bucharest neighborhood structures and benefits and ends renting in a limited area, even when conserving the previous lifestyle and benefits or standards can represent an important factor, along with getting in touch with the local culture and specificities. \n\nThis study aims to verify if there are alternatives for renting an apartment in neighborhoods that might have better access to facilities (like restaurants, parks, etc.), while avoiding the well-known problems of some neighborhoods.\n", 
            "cell_type": "markdown", 
            "metadata": {}
        }, 
        {
            "source": "### 1.3. The Benefits", 
            "cell_type": "markdown", 
            "metadata": {}
        }, 
        {
            "source": "The benefits are for the Canadian expats and not only.\n\nAn expat who is about to rent an apartment in Bucharest will be able to see:\n\n    1. What is the structure of venues for different Bucharest areas and, \n    2. particular to Canadian citizens, they will be able to know in advance where they can rent an apartment in order to conserve their life style or where they should rent one if they want to have access to some specific facilities\n", 
            "cell_type": "markdown", 
            "metadata": {}
        }, 
        {
            "source": "### 1.4. The Research Questions", 
            "cell_type": "markdown", 
            "metadata": {}
        }, 
        {
            "source": "The research questions are:\n\n    1. How are distributed city facilities in Toronto - Canada and Bucharest - Romania?\n    2. If I want to conserve my lifestyle from Toronto, where should I rent an apartment in Bucharest?\n    3. If I want to have quick access to some specific venues, where should I rent an apartment in Bucharest?\n    4. If I want to immigrate in Canada and rent an apartment in Toronto, from the facilities point of view, what neighborhoods are more recommended?\n", 
            "cell_type": "markdown", 
            "metadata": {}
        }, 
        {
            "source": "## 2. Methodology", 
            "cell_type": "markdown", 
            "metadata": {}
        }, 
        {
            "source": "### 2.1. Data Aquisition And Cleaning", 
            "cell_type": "markdown", 
            "metadata": {}
        }, 
        {
            "source": "#### Data Sources", 
            "cell_type": "markdown", 
            "metadata": {}
        }, 
        {
            "source": "Data required for this project are listed below, along with ther sources:\n\n    1. For Toronto City\n        a. List of neighborhoods - https://en.wikipedia.org/wiki/List_of_postal_codes_of_Canada:_M\n        b. List of latitudes and longitudes coordinates for neighborhoods - http://cocl.us/Geospatial_data\n        c. Venue data - explored using Forthsquare API - https://developer.foursquare.com/\n        \n    2. For Bucharest City\n        a. List of neighborhoods - https://ro.wikipedia.org/wiki/Lista_cartierelor_din_Bucure%C8%99ti\n        b. Latitudes and longitudes coordinates for neighborhoods - Python geopy library will be used because no public service or free web data were found\n        c. Venue data - explored using Forthsquare API - https://developer.foursquare.com/\n        ", 
            "cell_type": "markdown", 
            "metadata": {}
        }, 
        {
            "source": "#### Data Cleaning and Data Frames", 
            "cell_type": "markdown", 
            "metadata": {}
        }, 
        {
            "source": "Cleaning data will involve:\n\n1. data exploration\n2. data parsing\n2. data grouping\n3. data concatenation\n4. dealing with missing values", 
            "cell_type": "markdown", 
            "metadata": {}
        }, 
        {
            "source": "### 2.2. Techniques", 
            "cell_type": "markdown", 
            "metadata": {}
        }, 
        {
            "source": "After data wrangling, on clean data the following data science techiques will be used:\n\nFor Toronto city\n\n1. Web scraping Wikipedia page for Toronto neighbourhoods list  - using BeautifulSoup library\n2. Get latitude and longitude coordinates for Toronto using Geocoder\n3. Use Foursquare API to get venue data\n4. Group data by neighbourhood and taking the mean of the frequency of  occurrence of each venue category\n5. Perform clustering on the data by using k-means clustering\n6. Visualize the clusters in a map using Folium\n\nFor Bucharest city\n\n1. Web scraping Wikipedia page for Toronto neighbourhoods list  - using BeautifulSoup library\n2. Get latitude and longitude coordinates for Bucharest and Bucharest neibourghoods using Geocoder\n3. Use Foursquare API to get venue data\n4. Group data by neighbourhood and taking the mean of the frequency of  occurrence of each venue category\n5. Perform clustering on the data by using k-means clustering\n6. Visualize the clusters in a map using Folium\n", 
            "cell_type": "markdown", 
            "attachments": {}, 
            "metadata": {}
        }, 
        {
            "source": "## 3. Results", 
            "cell_type": "markdown", 
            "metadata": {}
        }, 
        {
            "source": "## 4. Discussion", 
            "cell_type": "markdown", 
            "metadata": {}
        }, 
        {
            "source": "## 5. Conclusions", 
            "cell_type": "markdown", 
            "metadata": {}
        }, 
        {
            "source": "## 6. References", 
            "cell_type": "markdown", 
            "metadata": {}
        }, 
        {
            "source": "## 7. Acknowledgment", 
            "cell_type": "markdown", 
            "metadata": {}
        }, 
        {
            "source": "## 8. Appendix", 
            "cell_type": "markdown", 
            "metadata": {}
        }
    ], 
    "metadata": {
        "kernelspec": {
            "display_name": "Python 3.6", 
            "name": "python3", 
            "language": "python"
        }, 
        "language_info": {
            "mimetype": "text/x-python", 
            "nbconvert_exporter": "python", 
            "version": "3.6.8", 
            "name": "python", 
            "file_extension": ".py", 
            "pygments_lexer": "ipython3", 
            "codemirror_mode": {
                "version": 3, 
                "name": "ipython"
            }
        }
    }, 
    "nbformat": 4
}